{
 "cells": [
  {
   "cell_type": "code",
   "execution_count": null,
   "id": "da31e400-9043-4bbc-b30c-494ade0eea6a",
   "metadata": {
    "executionRoleArn": "arn:aws:iam::149536480615:role/service-role/AmazonEMRStudio_RuntimeRole_1742841955329",
    "tags": []
   },
   "outputs": [],
   "source": [
    "from pyspark.sql import SparkSession\n",
    "\n",
    "spark = SparkSession.builder \\\n",
    "    .appName(\"ResumeJobMatching_SparkXGB\") \\\n",
    "    .getOrCreate()\n",
    "\n",
    "# (Optional) Check your Spark context\n",
    "print(spark.version)\n"
   ]
  },
  {
   "cell_type": "code",
   "execution_count": 1,
   "id": "8a2c0791-fbff-4ec4-b66f-edf943a1db9f",
   "metadata": {
    "execution": {
     "iopub.execute_input": "2025-04-13T00:06:57.858579Z",
     "iopub.status.busy": "2025-04-13T00:06:57.858120Z",
     "iopub.status.idle": "2025-04-13T00:07:14.067272Z",
     "shell.execute_reply": "2025-04-13T00:07:14.066617Z",
     "shell.execute_reply.started": "2025-04-13T00:06:57.858544Z"
    },
    "executionRoleArn": "arn:aws:iam::149536480615:role/service-role/AmazonEMRStudio_RuntimeRole_1742841955329",
    "tags": []
   },
   "outputs": [
    {
     "data": {
      "application/vnd.jupyter.widget-view+json": {
       "model_id": "eac39184171d482491587beb8242bd37",
       "version_major": 2,
       "version_minor": 0
      },
      "text/plain": [
       "VBox()"
      ]
     },
     "metadata": {},
     "output_type": "display_data"
    },
    {
     "name": "stdout",
     "output_type": "stream",
     "text": [
      "Starting Spark application\n"
     ]
    },
    {
     "data": {
      "text/html": [
       "<table>\n",
       "    <tr><th>ID</th><th>Kind</th><th>State</th><th>Spark UI</th><th>Driver log</th><th>User</th><th>Current session?</th></tr><tr><td>2</td><td>pyspark</td><td>idle</td><td><a target=\"_blank\" href=\"https://spark-live-ui.emr-serverless.amazonaws.com\" class=\"emr-proxy-link\" emr-runtime=\"emr-serverless\" emr-resource=\"00frmub6b11g5h0a\" application-id=\"00fr7fcb93vov309\">Link</a></td><td></td><td>None</td><td>✔</td></tr></table>"
      ],
      "text/plain": [
       "<IPython.core.display.HTML object>"
      ]
     },
     "metadata": {},
     "output_type": "display_data"
    },
    {
     "data": {
      "application/vnd.jupyter.widget-view+json": {
       "model_id": "",
       "version_major": 2,
       "version_minor": 0
      },
      "text/plain": [
       "FloatProgress(value=0.0, bar_style='info', description='Progress:', layout=Layout(height='25px', width='50%'),…"
      ]
     },
     "metadata": {},
     "output_type": "display_data"
    },
    {
     "name": "stdout",
     "output_type": "stream",
     "text": [
      "SparkSession available as 'spark'.\n"
     ]
    },
    {
     "data": {
      "application/vnd.jupyter.widget-view+json": {
       "model_id": "",
       "version_major": 2,
       "version_minor": 0
      },
      "text/plain": [
       "FloatProgress(value=0.0, bar_style='info', description='Progress:', layout=Layout(height='25px', width='50%'),…"
      ]
     },
     "metadata": {},
     "output_type": "display_data"
    }
   ],
   "source": [
    "spark.conf.set(\"spark.pyspark.virtualenv.enabled\", \"true\")"
   ]
  },
  {
   "cell_type": "code",
   "execution_count": 2,
   "id": "2bf01cb4-01e6-4ced-af2a-e54aa68009fc",
   "metadata": {
    "execution": {
     "iopub.execute_input": "2025-04-13T01:01:43.423463Z",
     "iopub.status.busy": "2025-04-13T01:01:43.423110Z",
     "iopub.status.idle": "2025-04-13T01:01:50.277449Z",
     "shell.execute_reply": "2025-04-13T01:01:50.276879Z",
     "shell.execute_reply.started": "2025-04-13T01:01:43.423440Z"
    },
    "executionRoleArn": "arn:aws:iam::149536480615:role/service-role/AmazonEMRStudio_RuntimeRole_1742841955329",
    "tags": []
   },
   "outputs": [
    {
     "data": {
      "application/vnd.jupyter.widget-view+json": {
       "model_id": "e458d05b894042a3804e4ca47b3e90db",
       "version_major": 2,
       "version_minor": 0
      },
      "text/plain": [
       "VBox()"
      ]
     },
     "metadata": {},
     "output_type": "display_data"
    },
    {
     "data": {
      "application/vnd.jupyter.widget-view+json": {
       "model_id": "",
       "version_major": 2,
       "version_minor": 0
      },
      "text/plain": [
       "FloatProgress(value=0.0, bar_style='info', description='Progress:', layout=Layout(height='25px', width='50%'),…"
      ]
     },
     "metadata": {},
     "output_type": "display_data"
    }
   ],
   "source": [
    "# Read the resume DataFrame (adjust the S3 paths accordingly)\n",
    "resume_df = spark.read.parquet(\"s3://resume-matching-new/000000_0-hadoop_20250403011440_9f04e66f-5b4f-4a4a-9eec-883d8ed76fb2-1\")\n",
    "# Read the job listing DataFrame\n",
    "job_df = spark.read.parquet(\"s3://resume-matching-new/000000_0-hadoop_20250403003123_1681fb76-9adb-4370-9a1c-5ab7d1d925d9-1\")"
   ]
  },
  {
   "cell_type": "code",
   "execution_count": 3,
   "id": "d31f003a-8a89-4335-8001-a48a3006b905",
   "metadata": {
    "execution": {
     "iopub.execute_input": "2025-04-13T01:01:53.592636Z",
     "iopub.status.busy": "2025-04-13T01:01:53.591959Z",
     "iopub.status.idle": "2025-04-13T01:01:53.745087Z",
     "shell.execute_reply": "2025-04-13T01:01:53.744413Z",
     "shell.execute_reply.started": "2025-04-13T01:01:53.592612Z"
    },
    "executionRoleArn": "arn:aws:iam::149536480615:role/service-role/AmazonEMRStudio_RuntimeRole_1742841955329",
    "tags": []
   },
   "outputs": [
    {
     "data": {
      "application/vnd.jupyter.widget-view+json": {
       "model_id": "8984993942f34d7f97e0c5f8c4c8386b",
       "version_major": 2,
       "version_minor": 0
      },
      "text/plain": [
       "VBox()"
      ]
     },
     "metadata": {},
     "output_type": "display_data"
    },
    {
     "data": {
      "application/vnd.jupyter.widget-view+json": {
       "model_id": "",
       "version_major": 2,
       "version_minor": 0
      },
      "text/plain": [
       "FloatProgress(value=0.0, bar_style='info', description='Progress:', layout=Layout(height='25px', width='50%'),…"
      ]
     },
     "metadata": {},
     "output_type": "display_data"
    },
    {
     "name": "stdout",
     "output_type": "stream",
     "text": [
      "DataFrame[_col0: string, _col1: string, _col2: string]"
     ]
    }
   ],
   "source": [
    "print(resume_df)"
   ]
  },
  {
   "cell_type": "code",
   "execution_count": 4,
   "id": "a523a80e-a096-4437-9f1f-4552c8251dfb",
   "metadata": {
    "execution": {
     "iopub.execute_input": "2025-04-13T01:01:56.182149Z",
     "iopub.status.busy": "2025-04-13T01:01:56.181767Z",
     "iopub.status.idle": "2025-04-13T01:01:56.557929Z",
     "shell.execute_reply": "2025-04-13T01:01:56.557366Z",
     "shell.execute_reply.started": "2025-04-13T01:01:56.182126Z"
    },
    "executionRoleArn": "arn:aws:iam::149536480615:role/service-role/AmazonEMRStudio_RuntimeRole_1742841955329",
    "tags": []
   },
   "outputs": [
    {
     "data": {
      "application/vnd.jupyter.widget-view+json": {
       "model_id": "425a79fd60984ff984fd6589f330f0b9",
       "version_major": 2,
       "version_minor": 0
      },
      "text/plain": [
       "VBox()"
      ]
     },
     "metadata": {},
     "output_type": "display_data"
    },
    {
     "data": {
      "application/vnd.jupyter.widget-view+json": {
       "model_id": "",
       "version_major": 2,
       "version_minor": 0
      },
      "text/plain": [
       "FloatProgress(value=0.0, bar_style='info', description='Progress:', layout=Layout(height='25px', width='50%'),…"
      ]
     },
     "metadata": {},
     "output_type": "display_data"
    }
   ],
   "source": [
    "resume_df = resume_df.selectExpr(\"_col0 as resumeID\", \"_col1 as category\", \"_col2 as resume\")"
   ]
  },
  {
   "cell_type": "code",
   "execution_count": 5,
   "id": "6b5b41aa-81ca-49f8-ad1a-0b86713433ca",
   "metadata": {
    "execution": {
     "iopub.execute_input": "2025-04-13T01:01:58.759013Z",
     "iopub.status.busy": "2025-04-13T01:01:58.758664Z",
     "iopub.status.idle": "2025-04-13T01:01:58.907395Z",
     "shell.execute_reply": "2025-04-13T01:01:58.906739Z",
     "shell.execute_reply.started": "2025-04-13T01:01:58.758990Z"
    },
    "executionRoleArn": "arn:aws:iam::149536480615:role/service-role/AmazonEMRStudio_RuntimeRole_1742841955329",
    "tags": []
   },
   "outputs": [
    {
     "data": {
      "application/vnd.jupyter.widget-view+json": {
       "model_id": "9389e6639422443bbdc2eda55d9cd8b4",
       "version_major": 2,
       "version_minor": 0
      },
      "text/plain": [
       "VBox()"
      ]
     },
     "metadata": {},
     "output_type": "display_data"
    },
    {
     "data": {
      "application/vnd.jupyter.widget-view+json": {
       "model_id": "",
       "version_major": 2,
       "version_minor": 0
      },
      "text/plain": [
       "FloatProgress(value=0.0, bar_style='info', description='Progress:', layout=Layout(height='25px', width='50%'),…"
      ]
     },
     "metadata": {},
     "output_type": "display_data"
    },
    {
     "name": "stdout",
     "output_type": "stream",
     "text": [
      "DataFrame[_col0: string, _col1: string, _col2: string, _col3: string, _col4: string, _col5: string, _col6: string, _col7: string, _col8: int, _col9: string, _col10: string, _col11: int, _col12: int]"
     ]
    }
   ],
   "source": [
    "print(job_df)"
   ]
  },
  {
   "cell_type": "code",
   "execution_count": 6,
   "id": "46f69aff-8233-447c-8485-877a17dd048e",
   "metadata": {
    "execution": {
     "iopub.execute_input": "2025-04-13T01:02:00.950127Z",
     "iopub.status.busy": "2025-04-13T01:02:00.949477Z",
     "iopub.status.idle": "2025-04-13T01:02:01.151163Z",
     "shell.execute_reply": "2025-04-13T01:02:01.150484Z",
     "shell.execute_reply.started": "2025-04-13T01:02:00.950104Z"
    },
    "executionRoleArn": "arn:aws:iam::149536480615:role/service-role/AmazonEMRStudio_RuntimeRole_1742841955329",
    "tags": []
   },
   "outputs": [
    {
     "data": {
      "application/vnd.jupyter.widget-view+json": {
       "model_id": "c927acb670464473a69d7621f8c7b5c4",
       "version_major": 2,
       "version_minor": 0
      },
      "text/plain": [
       "VBox()"
      ]
     },
     "metadata": {},
     "output_type": "display_data"
    },
    {
     "data": {
      "application/vnd.jupyter.widget-view+json": {
       "model_id": "",
       "version_major": 2,
       "version_minor": 0
      },
      "text/plain": [
       "FloatProgress(value=0.0, bar_style='info', description='Progress:', layout=Layout(height='25px', width='50%'),…"
      ]
     },
     "metadata": {},
     "output_type": "display_data"
    }
   ],
   "source": [
    "job_df = job_df.selectExpr(\n",
    "    \"_col0 as job_posting_id\", \"_col1 as job_title\", \"_col2 as company_name\", \n",
    "    \"_col3 as job_location\", \"_col4 as job_seniority_level\", \n",
    "    \"_col5 as job_employment_type\", \"_col6 as job_industries\",\n",
    "    \"_col7 as job_summary\", \"_col8 as job_num_applicants\", \n",
    "    \"_col9 as job_posted_date\", \"_col10 as job_posted_time\", \n",
    "    \"_col11 as job_posted_year\", \"_col12 as job_posted_month\"\n",
    ")"
   ]
  },
  {
   "cell_type": "code",
   "execution_count": 7,
   "id": "b774b290-4163-42f6-b568-ff7ba6ef037e",
   "metadata": {
    "execution": {
     "iopub.execute_input": "2025-04-13T01:02:03.618786Z",
     "iopub.status.busy": "2025-04-13T01:02:03.618439Z",
     "iopub.status.idle": "2025-04-13T01:02:04.521312Z",
     "shell.execute_reply": "2025-04-13T01:02:04.520592Z",
     "shell.execute_reply.started": "2025-04-13T01:02:03.618763Z"
    },
    "executionRoleArn": "arn:aws:iam::149536480615:role/service-role/AmazonEMRStudio_RuntimeRole_1742841955329",
    "tags": []
   },
   "outputs": [
    {
     "data": {
      "application/vnd.jupyter.widget-view+json": {
       "model_id": "4527cab351484c6caf4c5d91e1a1671d",
       "version_major": 2,
       "version_minor": 0
      },
      "text/plain": [
       "VBox()"
      ]
     },
     "metadata": {},
     "output_type": "display_data"
    },
    {
     "data": {
      "application/vnd.jupyter.widget-view+json": {
       "model_id": "",
       "version_major": 2,
       "version_minor": 0
      },
      "text/plain": [
       "FloatProgress(value=0.0, bar_style='info', description='Progress:', layout=Layout(height='25px', width='50%'),…"
      ]
     },
     "metadata": {},
     "output_type": "display_data"
    }
   ],
   "source": [
    "from pyspark.ml.feature import Tokenizer, StopWordsRemover, CountVectorizer, IDF\n",
    "\n",
    "# Resume text processing pipeline\n",
    "tokenizer_resume = Tokenizer(inputCol=\"resume\", outputCol=\"resume_tokens\")\n",
    "remover_resume = StopWordsRemover(inputCol=\"resume_tokens\", outputCol=\"resume_clean\")\n",
    "cv_resume = CountVectorizer(inputCol=\"resume_clean\", outputCol=\"resume_tf\", vocabSize=1000)\n",
    "idf_resume = IDF(inputCol=\"resume_tf\", outputCol=\"resume_tfidf\")\n",
    "\n",
    "# Job summary text processing pipeline\n",
    "tokenizer_job = Tokenizer(inputCol=\"job_summary\", outputCol=\"job_tokens\")\n",
    "remover_job = StopWordsRemover(inputCol=\"job_tokens\", outputCol=\"job_clean\")\n",
    "cv_job = CountVectorizer(inputCol=\"job_clean\", outputCol=\"job_tf\", vocabSize=1000)\n",
    "idf_job = IDF(inputCol=\"job_tf\", outputCol=\"job_tfidf\")\n"
   ]
  },
  {
   "cell_type": "code",
   "execution_count": 8,
   "id": "651455c3-d2e9-4db5-bec7-67574ac09e74",
   "metadata": {
    "execution": {
     "iopub.execute_input": "2025-04-13T01:02:07.157895Z",
     "iopub.status.busy": "2025-04-13T01:02:07.157545Z",
     "iopub.status.idle": "2025-04-13T01:02:20.779346Z",
     "shell.execute_reply": "2025-04-13T01:02:20.778671Z",
     "shell.execute_reply.started": "2025-04-13T01:02:07.157872Z"
    },
    "executionRoleArn": "arn:aws:iam::149536480615:role/service-role/AmazonEMRStudio_RuntimeRole_1742841955329",
    "tags": []
   },
   "outputs": [
    {
     "data": {
      "application/vnd.jupyter.widget-view+json": {
       "model_id": "1c7d5e8e10054fd6b98981ce3940cdd6",
       "version_major": 2,
       "version_minor": 0
      },
      "text/plain": [
       "VBox()"
      ]
     },
     "metadata": {},
     "output_type": "display_data"
    },
    {
     "data": {
      "application/vnd.jupyter.widget-view+json": {
       "model_id": "",
       "version_major": 2,
       "version_minor": 0
      },
      "text/plain": [
       "FloatProgress(value=0.0, bar_style='info', description='Progress:', layout=Layout(height='25px', width='50%'),…"
      ]
     },
     "metadata": {},
     "output_type": "display_data"
    }
   ],
   "source": [
    "from pyspark.ml import Pipeline\n",
    "import pyspark.sql.functions as F\n",
    "\n",
    "# Pipeline for resumes\n",
    "pipeline_resume = Pipeline(stages=[tokenizer_resume, remover_resume, cv_resume, idf_resume])\n",
    "resume_model = pipeline_resume.fit(resume_df)\n",
    "resume_transformed = resume_model.transform(resume_df)\n",
    "# Add a text length feature for resumes\n",
    "resume_transformed = resume_transformed.withColumn(\"resume_length\", F.length(\"resume\"))\n",
    "\n",
    "# Pipeline for job summaries\n",
    "pipeline_job = Pipeline(stages=[tokenizer_job, remover_job, cv_job, idf_job])\n",
    "job_model = pipeline_job.fit(job_df)\n",
    "job_transformed = job_model.transform(job_df)\n",
    "# Add a text length feature for job summaries\n",
    "job_transformed = job_transformed.withColumn(\"job_length\", F.length(\"job_summary\"))\n"
   ]
  },
  {
   "cell_type": "code",
   "execution_count": 9,
   "id": "de7366d4-e795-4a9b-b220-5bdf9643159c",
   "metadata": {
    "execution": {
     "iopub.execute_input": "2025-04-13T01:02:25.787756Z",
     "iopub.status.busy": "2025-04-13T01:02:25.787370Z",
     "iopub.status.idle": "2025-04-13T01:02:25.954665Z",
     "shell.execute_reply": "2025-04-13T01:02:25.954107Z",
     "shell.execute_reply.started": "2025-04-13T01:02:25.787731Z"
    },
    "executionRoleArn": "arn:aws:iam::149536480615:role/service-role/AmazonEMRStudio_RuntimeRole_1742841955329",
    "tags": []
   },
   "outputs": [
    {
     "data": {
      "application/vnd.jupyter.widget-view+json": {
       "model_id": "8ba24f879e2f4afc9faab610a3fab7d2",
       "version_major": 2,
       "version_minor": 0
      },
      "text/plain": [
       "VBox()"
      ]
     },
     "metadata": {},
     "output_type": "display_data"
    },
    {
     "data": {
      "application/vnd.jupyter.widget-view+json": {
       "model_id": "",
       "version_major": 2,
       "version_minor": 0
      },
      "text/plain": [
       "FloatProgress(value=0.0, bar_style='info', description='Progress:', layout=Layout(height='25px', width='50%'),…"
      ]
     },
     "metadata": {},
     "output_type": "display_data"
    }
   ],
   "source": [
    "pairs_df = resume_transformed.crossJoin(job_transformed)"
   ]
  },
  {
   "cell_type": "code",
   "execution_count": 10,
   "id": "9168ca36-018d-4f50-bde1-a1bbbfaa8851",
   "metadata": {
    "execution": {
     "iopub.execute_input": "2025-04-13T01:02:29.635451Z",
     "iopub.status.busy": "2025-04-13T01:02:29.634874Z",
     "iopub.status.idle": "2025-04-13T01:02:30.019234Z",
     "shell.execute_reply": "2025-04-13T01:02:30.018646Z",
     "shell.execute_reply.started": "2025-04-13T01:02:29.635429Z"
    },
    "executionRoleArn": "arn:aws:iam::149536480615:role/service-role/AmazonEMRStudio_RuntimeRole_1742841955329",
    "tags": []
   },
   "outputs": [
    {
     "data": {
      "application/vnd.jupyter.widget-view+json": {
       "model_id": "9b5cc85f24cb40da86dd2ad030129a3e",
       "version_major": 2,
       "version_minor": 0
      },
      "text/plain": [
       "VBox()"
      ]
     },
     "metadata": {},
     "output_type": "display_data"
    },
    {
     "data": {
      "application/vnd.jupyter.widget-view+json": {
       "model_id": "",
       "version_major": 2,
       "version_minor": 0
      },
      "text/plain": [
       "FloatProgress(value=0.0, bar_style='info', description='Progress:', layout=Layout(height='25px', width='50%'),…"
      ]
     },
     "metadata": {},
     "output_type": "display_data"
    }
   ],
   "source": [
    "from pyspark.ml.linalg import DenseVector, VectorUDT\n",
    "from pyspark.sql.types import DoubleType\n",
    "import math\n",
    "\n",
    "def cosine_similarity(v1, v2):\n",
    "    # Compute the dot product and norms\n",
    "    dot = float(v1.dot(v2))\n",
    "    norm1 = math.sqrt(v1.dot(v1))\n",
    "    norm2 = math.sqrt(v2.dot(v2))\n",
    "    if norm1 == 0 or norm2 == 0:\n",
    "        return 0.0\n",
    "    return dot / (norm1 * norm2)\n",
    "\n",
    "cosine_similarity_udf = F.udf(cosine_similarity, DoubleType())\n",
    "\n",
    "# Compute cosine similarity using the TF–IDF vectors from resume and job text\n",
    "pairs_df = pairs_df.withColumn(\n",
    "    \"cosine_similarity\", \n",
    "    cosine_similarity_udf(F.col(\"resume_tfidf\"), F.col(\"job_tfidf\"))\n",
    ")\n"
   ]
  },
  {
   "cell_type": "code",
   "execution_count": 2,
   "id": "24a4198c-550f-4d46-adbf-fee6768ccff4",
   "metadata": {
    "execution": {
     "iopub.execute_input": "2025-04-13T01:21:13.892017Z",
     "iopub.status.busy": "2025-04-13T01:21:13.891633Z",
     "iopub.status.idle": "2025-04-13T01:21:15.595521Z",
     "shell.execute_reply": "2025-04-13T01:21:15.594838Z",
     "shell.execute_reply.started": "2025-04-13T01:21:13.891992Z"
    },
    "executionRoleArn": "arn:aws:iam::149536480615:role/service-role/AmazonEMRStudio_RuntimeRole_1742841955329",
    "tags": []
   },
   "outputs": [
    {
     "data": {
      "application/vnd.jupyter.widget-view+json": {
       "model_id": "76cba873a1384ad5ae5edf8056002eaa",
       "version_major": 2,
       "version_minor": 0
      },
      "text/plain": [
       "VBox()"
      ]
     },
     "metadata": {},
     "output_type": "display_data"
    },
    {
     "data": {
      "application/vnd.jupyter.widget-view+json": {
       "model_id": "",
       "version_major": 2,
       "version_minor": 0
      },
      "text/plain": [
       "FloatProgress(value=0.0, bar_style='info', description='Progress:', layout=Layout(height='25px', width='50%'),…"
      ]
     },
     "metadata": {},
     "output_type": "display_data"
    },
    {
     "name": "stderr",
     "output_type": "stream",
     "text": [
      "An error was encountered:\n",
      "name 'Pipeline' is not defined\n",
      "Traceback (most recent call last):\n",
      "NameError: name 'Pipeline' is not defined\n",
      "\n"
     ]
    }
   ],
   "source": [
    "from pyspark.ml.feature import StringIndexer, OneHotEncoder, VectorAssembler\n",
    "\n",
    "# Index and encode categorical features\n",
    "indexer_category = StringIndexer(inputCol=\"category\", outputCol=\"cat_index\")\n",
    "indexer_jobtitle = StringIndexer(inputCol=\"job_title\", outputCol=\"jobtitle_index\")\n",
    "\n",
    "encoder = OneHotEncoder(inputCols=[\"cat_index\", \"jobtitle_index\"],\n",
    "                        outputCols=[\"cat_vec\", \"jobtitle_vec\"])\n",
    "\n",
    "# Assemble numeric and encoded features\n",
    "assembler = VectorAssembler(\n",
    "    inputCols=[\"resume_length\", \"job_length\", \"cosine_similarity\", \"cat_vec\", \"jobtitle_vec\"],\n",
    "    outputCol=\"features\"\n",
    ")\n",
    "\n",
    "# Build the feature pipeline\n",
    "feature_pipeline = Pipeline(stages=[indexer_category, indexer_jobtitle, encoder, assembler])\n",
    "pairs_prepped = feature_pipeline.fit(pairs_df).transform(pairs_df)\n",
    "\n",
    "# For demonstration purposes, create a binary label based on a threshold.\n",
    "# Here, for example, you might label pairs with cosine_similarity above 0.25 as a match.\n",
    "pairs_prepped = pairs_prepped.withColumn(\"label\", F.when(F.col(\"cosine_similarity\") >= 0.25, 1).otherwise(0))\n"
   ]
  },
  {
   "cell_type": "code",
   "execution_count": 12,
   "id": "8392d992-3cc2-4907-a3ad-6e6c9799a6a9",
   "metadata": {
    "execution": {
     "iopub.execute_input": "2025-04-13T01:02:41.260340Z",
     "iopub.status.busy": "2025-04-13T01:02:41.259921Z",
     "iopub.status.idle": "2025-04-13T01:02:41.422453Z",
     "shell.execute_reply": "2025-04-13T01:02:41.421695Z",
     "shell.execute_reply.started": "2025-04-13T01:02:41.260314Z"
    },
    "executionRoleArn": "arn:aws:iam::149536480615:role/service-role/AmazonEMRStudio_RuntimeRole_1742841955329",
    "tags": []
   },
   "outputs": [
    {
     "name": "stdout",
     "output_type": "stream",
     "text": [
      "/usr/bin/sh: -c: line 0: syntax error near unexpected token `newline'\n",
      "/usr/bin/sh: -c: line 0: `/usr/bin/python3 -m pip install <xgboost>'\n",
      "Note: you may need to restart the kernel to use updated packages.\n"
     ]
    }
   ],
   "source": [
    "%%local pip install <xgboost>"
   ]
  },
  {
   "cell_type": "code",
   "execution_count": 1,
   "id": "5f7135b7-9e99-42ea-a26c-2ff8c2d97d9f",
   "metadata": {
    "execution": {
     "iopub.execute_input": "2025-04-13T01:20:49.690962Z",
     "iopub.status.busy": "2025-04-13T01:20:49.690587Z",
     "iopub.status.idle": "2025-04-13T01:21:01.930640Z",
     "shell.execute_reply": "2025-04-13T01:21:01.930015Z",
     "shell.execute_reply.started": "2025-04-13T01:20:49.690931Z"
    },
    "executionRoleArn": "arn:aws:iam::149536480615:role/service-role/AmazonEMRStudio_RuntimeRole_1742841955329",
    "tags": []
   },
   "outputs": [
    {
     "data": {
      "application/vnd.jupyter.widget-view+json": {
       "model_id": "21389117bca244798b9b76639a4b4472",
       "version_major": 2,
       "version_minor": 0
      },
      "text/plain": [
       "VBox()"
      ]
     },
     "metadata": {},
     "output_type": "display_data"
    },
    {
     "name": "stdout",
     "output_type": "stream",
     "text": [
      "Starting Spark application\n"
     ]
    },
    {
     "data": {
      "text/html": [
       "<table>\n",
       "    <tr><th>ID</th><th>Kind</th><th>State</th><th>Spark UI</th><th>Driver log</th><th>User</th><th>Current session?</th></tr><tr><td>1</td><td>pyspark</td><td>idle</td><td><a target=\"_blank\" href=\"https://spark-live-ui.emr-serverless.amazonaws.com\" class=\"emr-proxy-link\" emr-runtime=\"emr-serverless\" emr-resource=\"00frmvl9jales10a\" application-id=\"00fr7fcb93vov309\">Link</a></td><td></td><td>None</td><td>✔</td></tr></table>"
      ],
      "text/plain": [
       "<IPython.core.display.HTML object>"
      ]
     },
     "metadata": {},
     "output_type": "display_data"
    },
    {
     "data": {
      "application/vnd.jupyter.widget-view+json": {
       "model_id": "",
       "version_major": 2,
       "version_minor": 0
      },
      "text/plain": [
       "FloatProgress(value=0.0, bar_style='info', description='Progress:', layout=Layout(height='25px', width='50%'),…"
      ]
     },
     "metadata": {},
     "output_type": "display_data"
    },
    {
     "name": "stdout",
     "output_type": "stream",
     "text": [
      "SparkSession available as 'spark'.\n"
     ]
    },
    {
     "data": {
      "application/vnd.jupyter.widget-view+json": {
       "model_id": "",
       "version_major": 2,
       "version_minor": 0
      },
      "text/plain": [
       "FloatProgress(value=0.0, bar_style='info', description='Progress:', layout=Layout(height='25px', width='50%'),…"
      ]
     },
     "metadata": {},
     "output_type": "display_data"
    },
    {
     "name": "stderr",
     "output_type": "stream",
     "text": [
      "An error was encountered:\n",
      "name 'pairs_prepped' is not defined\n",
      "Traceback (most recent call last):\n",
      "NameError: name 'pairs_prepped' is not defined\n",
      "\n"
     ]
    }
   ],
   "source": [
    "# Split data into training and test sets\n",
    "(train_df, test_df) = pairs_prepped.randomSplit([0.8, 0.2], seed=42)\n",
    "\n",
    "# Import the Spark XGBoost classifier. (This example assumes you are using an XGBoost version with Spark integration.)\n",
    "from xgboost.spark import SparkXGBClassifier\n",
    "\n",
    "# Initialize the model with parameters.\n",
    "xgb = SparkXGBClassifier(\n",
    "    featuresCol=\"features\",\n",
    "    labelCol=\"label\",\n",
    "    objective=\"binary:logistic\",\n",
    "    num_round=100,         # number of boosting rounds; adjust accordingly\n",
    "    maxDepth=5,\n",
    "    scalePosWeight=1.0     # set based on class imbalance if necessary\n",
    ")\n",
    "\n",
    "# Train the model\n",
    "xgb_model = xgb.fit(train_df)\n",
    "\n",
    "# Make predictions on the test set\n",
    "preds = xgb_model.transform(test_df)\n"
   ]
  },
  {
   "cell_type": "code",
   "execution_count": null,
   "id": "71aa5a0e-67ff-46ee-ba6d-d0c49ee05b60",
   "metadata": {},
   "outputs": [],
   "source": [
    "from pyspark.ml.evaluation import BinaryClassificationEvaluator\n",
    "\n",
    "evaluator = BinaryClassificationEvaluator(rawPredictionCol=\"rawPrediction\", labelCol=\"label\")\n",
    "auc = evaluator.evaluate(preds)\n",
    "print(f\"Test AUC: {auc:.2f}\")\n"
   ]
  },
  {
   "cell_type": "code",
   "execution_count": null,
   "id": "bc8008bf-1c31-4047-9e99-bbfa54982d22",
   "metadata": {},
   "outputs": [],
   "source": []
  }
 ],
 "metadata": {
  "kernelspec": {
   "display_name": "PySpark",
   "language": "python",
   "name": "spark_magic_pyspark"
  },
  "language_info": {
   "codemirror_mode": {
    "name": "python",
    "version": 3
   },
   "file_extension": ".py",
   "mimetype": "text/x-python",
   "name": "pyspark",
   "pygments_lexer": "python3"
  }
 },
 "nbformat": 4,
 "nbformat_minor": 5
}
